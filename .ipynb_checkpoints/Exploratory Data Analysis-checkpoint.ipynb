{
 "cells": [
  {
   "cell_type": "markdown",
   "id": "c645d9d1",
   "metadata": {},
   "source": [
    "# Exploratory Data Analysis - NYC Green Taxi Commission"
   ]
  },
  {
   "cell_type": "markdown",
   "id": "f7735011",
   "metadata": {},
   "source": [
    "## Execution Time breakup for 80 Million Rows\n",
    "\n",
    "1. Average, Monthly, Weekly and Hourly Pickups ~ 15-20 minutes each\n",
    "2. Hourly Pickups for every month ~ 2.5 hours\n",
    "3. HeatMap ~ 15 minutes\n",
    "\n",
    "Total time of execution ~ 4 hours"
   ]
  },
  {
   "cell_type": "markdown",
   "id": "46f47671",
   "metadata": {},
   "source": [
    "## Objective\n",
    "\n",
    "- As a startup who wants to launch a new taxi service in New York City, we plan to do Exploratory Data Analysis on the New York City Green Taxi Commision dataset to analyze the taxi pickups based on monthly, weekly and hourly basis to gain insights related to deployments of taxis.\n",
    "- This dataset has 80 million rows in parquet format (around 2GB size) and is present on Microsoft Azure. So we have extracted it directly from cloud instead of storing the dataset localy in our system."
   ]
  },
  {
   "cell_type": "code",
   "execution_count": null,
   "id": "278a674c",
   "metadata": {},
   "outputs": [],
   "source": [
    "import pyspark.pandas as ps\n",
    "from pyspark.sql import SparkSession\n",
    "from pyspark.sql.functions import col\n",
    "import datetime\n",
    "import numpy as np\n",
    "import matplotlib.pyplot as plt\n",
    "import plotly.express as px\n",
    "from plotly.subplots import make_subplots\n",
    "import plotly.graph_objects as go\n",
    "from collections import defaultdict, OrderedDict\n",
    "import folium\n",
    "from folium.plugins import HeatMapWithTime\n",
    "from datetime import datetime\n",
    "import plotly.figure_factory as ff\n",
    "import datashader as ds, colorcet as cc\n",
    "import pandas as pd"
   ]
  },
  {
   "cell_type": "code",
   "execution_count": null,
   "id": "5ec19992",
   "metadata": {},
   "outputs": [],
   "source": [
    "spark = SparkSession.builder.master(\"local[*]\")\\\n",
    "        .config('spark.jars.packages', 'org.apache.hadoop:hadoop-azure:3.3.2')\\\n",
    "        .appName('NYC Taxi Data')\\\n",
    "        .getOrCreate()"
   ]
  },
  {
   "cell_type": "code",
   "execution_count": null,
   "id": "992068e9",
   "metadata": {},
   "outputs": [],
   "source": [
    "ps.set_option('compute.ops_on_diff_frames', True)"
   ]
  },
  {
   "cell_type": "markdown",
   "id": "96a52566",
   "metadata": {},
   "source": [
    "## Reading data from azure server"
   ]
  },
  {
   "cell_type": "code",
   "execution_count": null,
   "id": "4f913406",
   "metadata": {},
   "outputs": [],
   "source": [
    "# Azure storage access info\n",
    "blob_account_name = \"azureopendatastorage\"\n",
    "blob_container_name = \"nyctlc\"\n",
    "blob_relative_path = \"green\"\n",
    "blob_sas_token = r\"\"\n",
    "\n",
    "# Allow SPARK to read from Blob remotely\n",
    "wasbs_path = 'wasbs://%s@%s.blob.core.windows.net/%s' % (blob_container_name, blob_account_name, blob_relative_path)\n",
    "spark.conf.set(\n",
    "  'fs.azure.sas.%s.%s.blob.core.windows.net' % (blob_container_name, blob_account_name),\n",
    "  blob_sas_token)\n",
    "print('Remote blob path: ' + wasbs_path)"
   ]
  },
  {
   "cell_type": "code",
   "execution_count": null,
   "id": "dcf75671",
   "metadata": {},
   "outputs": [],
   "source": [
    "ny_trips = spark.read.parquet(wasbs_path)"
   ]
  },
  {
   "cell_type": "code",
   "execution_count": null,
   "id": "220f7660",
   "metadata": {},
   "outputs": [],
   "source": [
    "def dropEmptyColumns(dataframe):\n",
    "    cols = ('puLocationId','doLocationId', 'ehailFee')\n",
    "    dataframe = dataframe.drop(*cols)\n",
    "    return dataframe"
   ]
  },
  {
   "cell_type": "code",
   "execution_count": null,
   "id": "734a6094",
   "metadata": {},
   "outputs": [],
   "source": [
    "trips_in_18 = dropEmptyColumns(ny_trips)"
   ]
  },
  {
   "cell_type": "markdown",
   "id": "c42a6306",
   "metadata": {},
   "source": [
    "## Conversion to Pyspark Pandas dataframe"
   ]
  },
  {
   "cell_type": "code",
   "execution_count": null,
   "id": "ad5ad795",
   "metadata": {},
   "outputs": [],
   "source": [
    "pickups_data = trips_in_18.to_pandas_on_spark()"
   ]
  },
  {
   "cell_type": "code",
   "execution_count": null,
   "id": "02f236fc",
   "metadata": {},
   "outputs": [],
   "source": [
    "def setDataRecords(dataFrame):\n",
    "    dataFrame['Weekday'] = dataFrame['lpepPickupDatetime'].dt.day_name()\n",
    "    dataFrame['Hour'] = dataFrame['lpepPickupDatetime'].dt.hour\n",
    "    dataFrame['Month'] = dataFrame['lpepPickupDatetime'].dt.month_name()\n",
    "    dataFrame['Day'] = dataFrame['lpepPickupDatetime'].dt.day\n",
    "    dataFrame['Year'] = dataFrame['lpepPickupDatetime'].dt.year\n",
    "    return dataFrame"
   ]
  },
  {
   "cell_type": "code",
   "execution_count": null,
   "id": "cf34b578",
   "metadata": {},
   "outputs": [],
   "source": [
    "pickups_data = setDataRecords(pickups_data)"
   ]
  },
  {
   "cell_type": "code",
   "execution_count": null,
   "id": "2b64ee1f",
   "metadata": {},
   "outputs": [],
   "source": [
    "# Mapping the Months of the Year\n",
    "month_map = {\n",
    "    1: 'January',\n",
    "    2: 'February',\n",
    "    3: 'March',\n",
    "    4: 'April',\n",
    "    5: 'May',\n",
    "    6: 'June', \n",
    "    7: 'July',\n",
    "    8: 'August',\n",
    "    9: 'September',\n",
    "    10: 'October',\n",
    "    11: 'November',\n",
    "    12: 'December'\n",
    "}\n",
    "\n",
    "pickups_data['Month'] = pickups_data['Month'].replace(month_map)\n",
    "\n",
    "# Mapping the Days of the Week\n",
    "\n",
    "weekday_map = {\n",
    "    0: 'Monday',\n",
    "    1: 'Tuesday',\n",
    "    2: 'Wednesday',\n",
    "    3: 'Thursday', \n",
    "    4: 'Friday', \n",
    "    5: 'Saturday',\n",
    "    6: 'Sunday'\n",
    "}\n",
    "pickups_data['Weekday'] = pickups_data['Weekday'].replace(weekday_map)"
   ]
  },
  {
   "cell_type": "markdown",
   "id": "3dc2f81e",
   "metadata": {},
   "source": [
    "# Exploratory Data Analysis"
   ]
  },
  {
   "cell_type": "markdown",
   "id": "ec4733b4",
   "metadata": {},
   "source": [
    "## Average Pickups per Day"
   ]
  },
  {
   "cell_type": "code",
   "execution_count": null,
   "id": "d3a63b77",
   "metadata": {},
   "outputs": [],
   "source": [
    "num_pickups = pickups_data.shape[0]\n",
    "num_day = len(pickups_data[['Year','Month','Day']].drop_duplicates())\n",
    "daily_avg = np.round(num_pickups/num_day, 0)"
   ]
  },
  {
   "cell_type": "code",
   "execution_count": null,
   "id": "7d396522",
   "metadata": {},
   "outputs": [],
   "source": [
    "stats_raw = 'Number of Pickups: {} \\nAvg Daily Pickups: {}'\n",
    "print(stats_raw.format(num_pickups, daily_avg))"
   ]
  },
  {
   "cell_type": "markdown",
   "id": "32eb10f7",
   "metadata": {},
   "source": [
    "Above values determines the daily average pickup from the entire data. With the help of this, we can easily figure out the number of taxi deployments on a daily basis."
   ]
  },
  {
   "cell_type": "markdown",
   "id": "fd84e4e4",
   "metadata": {},
   "source": [
    "## Monthly Taxi Pickups"
   ]
  },
  {
   "cell_type": "code",
   "execution_count": null,
   "id": "7348ffd1",
   "metadata": {},
   "outputs": [],
   "source": [
    "month = list(month_map.values())"
   ]
  },
  {
   "cell_type": "code",
   "execution_count": null,
   "id": "11e2a90d",
   "metadata": {
    "scrolled": true
   },
   "outputs": [],
   "source": [
    "monthly_pickups = pickups_data.groupby('Month').sum().reindex(month)\n",
    "fig = px.bar(monthly_pickups, x = monthly_pickups.index.to_numpy(), y=monthly_pickups['passengerCount'].to_numpy())\n",
    "\n",
    "# Setting Graph Details\n",
    "fig.update_layout(\n",
    "    title=\"Monthly Pickups\",\n",
    "    xaxis_title=\"Months\",\n",
    "    yaxis_title=\"No of Passengers\",\n",
    "    legend_title=\"Legend Title\",\n",
    "    font=dict(\n",
    "        size=14,\n",
    "        color=\"RebeccaPurple\"\n",
    "    )\n",
    ")"
   ]
  },
  {
   "cell_type": "markdown",
   "id": "250c61de",
   "metadata": {},
   "source": [
    "From the monthly pickup graphs it has been observed that pickup remains constant throughout the year. However during the summer we can see that there’s a downward trend until september. The downward trend is attributed to the fact that people move home during summers and hence the necessity for commuting is lower than other months."
   ]
  },
  {
   "cell_type": "markdown",
   "id": "e96d7022",
   "metadata": {},
   "source": [
    "## Weekday Taxi Pickups"
   ]
  },
  {
   "cell_type": "code",
   "execution_count": null,
   "id": "90cbdc34",
   "metadata": {},
   "outputs": [],
   "source": [
    "day = list(weekday_map.values())\n"
   ]
  },
  {
   "cell_type": "code",
   "execution_count": null,
   "id": "64a22436",
   "metadata": {},
   "outputs": [],
   "source": [
    "daily_pickups = pickups_data.groupby('Weekday').sum().reindex(day)\n",
    "fig = px.bar(daily_pickups, x = daily_pickups.index.to_numpy(), y=daily_pickups['passengerCount'].to_numpy())\n",
    "fig.update_layout(\n",
    "    title=\"Weekday Pickups\",\n",
    "    xaxis_title=\"Days of the week\",\n",
    "    yaxis_title=\"No of Passengers\",\n",
    "    legend_title=\"Legend Title\",\n",
    "    font=dict(\n",
    "        size=14,\n",
    "        color=\"RebeccaPurple\"\n",
    "    )\n",
    ")"
   ]
  },
  {
   "cell_type": "markdown",
   "id": "72151ee7",
   "metadata": {},
   "source": [
    "From the weekly pickup graphs we can see that there’s a linear increase in the demand for cabs from Monday to Saturday with the peaks being on Friday and Saturdays, and deep in demand on Sundays. "
   ]
  },
  {
   "cell_type": "markdown",
   "id": "6649bf68",
   "metadata": {},
   "source": [
    "## Hourly Taxi Pickups"
   ]
  },
  {
   "cell_type": "code",
   "execution_count": null,
   "id": "b805ff92",
   "metadata": {},
   "outputs": [],
   "source": [
    "hour = pickups_data.groupby('Hour').sum().sort_index()\n",
    "fig = px.bar(hour, x = hour.index.to_numpy(), y=hour['passengerCount'].to_numpy())\n",
    "fig.update_layout(\n",
    "    title=\"Hourly Pickups\",\n",
    "    xaxis_title=\"Hours\",\n",
    "    yaxis_title=\"No of Passengers\",\n",
    "    legend_title=\"Legend Title\",\n",
    "    font=dict(\n",
    "        size=14,\n",
    "        color=\"RebeccaPurple\"\n",
    "    )\n",
    ")"
   ]
  },
  {
   "cell_type": "markdown",
   "id": "4a53422e",
   "metadata": {},
   "source": [
    "From the Hourly Pickup graphs it is evident that there’s an increase in the demands for taxis in the working hours viz. From 8am to 11am. \n",
    "Hence we conclude that we need more deployments of taxis in the peak office hours of the day and slowly reduce it as the day progresses. \n"
   ]
  },
  {
   "cell_type": "markdown",
   "id": "6ddffd5f",
   "metadata": {},
   "source": [
    "## Weekday Pickups every Month"
   ]
  },
  {
   "cell_type": "code",
   "execution_count": null,
   "id": "7f89a533",
   "metadata": {},
   "outputs": [],
   "source": [
    "monthly_weekdays = pickups_data.groupby('Month')['Weekday'].value_counts().unstack()\n",
    "monthly_weekdays = monthly_weekdays.reindex(month)\n",
    "monthly_weekdays.loc[month_map.values(),weekday_map.values()].plot(kind='bar')"
   ]
  },
  {
   "cell_type": "markdown",
   "id": "e3f2727c",
   "metadata": {},
   "source": [
    "It is evident that, for all months the weekly pickups trend remain the same"
   ]
  },
  {
   "cell_type": "markdown",
   "id": "34157a53",
   "metadata": {},
   "source": [
    "## Comparing Hourly Pickups for each months"
   ]
  },
  {
   "cell_type": "code",
   "execution_count": null,
   "id": "5a419347",
   "metadata": {},
   "outputs": [],
   "source": [
    "var_name = 'Month'\n",
    "var_values = list(month_map.values())\n",
    "fig = make_subplots(rows=4, cols=3, subplot_titles=var_values)"
   ]
  },
  {
   "cell_type": "code",
   "execution_count": null,
   "id": "1932d6b2",
   "metadata": {},
   "outputs": [],
   "source": [
    "r = 1\n",
    "c = 1\n",
    "for i in range(0,12):\n",
    "    value_df = pickups_data[pickups_data[var_name] == var_values[i]].groupby('Hour').sum().sort_index()\n",
    "    fig.add_trace(go.Bar(x = value_df.index.to_numpy(), y = value_df['passengerCount'].to_numpy()), row=r, col=c, )\n",
    "    fig.update_xaxes(title_text=\"Hour\", row=r, col=c)\n",
    "    fig.update_yaxes(title_text=\"Proportion of Pickups\", row=r, col=c)\n",
    "    if(c%3 == 0):\n",
    "        c = 1\n",
    "        r += 1\n",
    "    else:\n",
    "        c += 1\n",
    "\n",
    "fig.update_layout(title_text=\"Hourly Pickups Every Month wise\", height=800, width=1500)"
   ]
  },
  {
   "cell_type": "markdown",
   "id": "7c5b72eb",
   "metadata": {},
   "source": [
    "From the Hourly Pickup graphs it is evident that there’s an increase in the demands for taxis in the working hours viz. From 8am to 11am. This trend remains the same across all the 12 months. Hence we conclude that we need more deployments of taxis in the peak office hours of the day and slowly reduce it as the day progresses. "
   ]
  },
  {
   "cell_type": "markdown",
   "id": "3323896d",
   "metadata": {},
   "source": [
    "## Animated Heat Map for the busiest day"
   ]
  },
  {
   "cell_type": "code",
   "execution_count": null,
   "id": "8a80ca2d",
   "metadata": {},
   "outputs": [],
   "source": [
    "daily_pickup = pickups_data.groupby(['Month', 'Day','Year']).count()\n",
    "maxCount_of_busiestDay = daily_pickup['passengerCount'].idxmax()"
   ]
  },
  {
   "cell_type": "code",
   "execution_count": null,
   "id": "21bdaae2",
   "metadata": {},
   "outputs": [],
   "source": [
    "maxCount_of_busiestDay"
   ]
  },
  {
   "cell_type": "markdown",
   "id": "a455b19c",
   "metadata": {},
   "source": [
    "We observe that from our data set, the busiest day we obtain is as above."
   ]
  },
  {
   "cell_type": "code",
   "execution_count": null,
   "id": "ceac0c7d",
   "metadata": {},
   "outputs": [],
   "source": [
    "month_map_keyList = list(month_map.keys())"
   ]
  },
  {
   "cell_type": "code",
   "execution_count": null,
   "id": "fdc8f8b1",
   "metadata": {},
   "outputs": [],
   "source": [
    "# Calculating the key for the obtained Month\n",
    "val = month_map_keyList[month.index(str(maxCount_of_busiestDay[0]))]"
   ]
  },
  {
   "cell_type": "code",
   "execution_count": null,
   "id": "b0489ac3",
   "metadata": {},
   "outputs": [],
   "source": [
    "busiest_day = pickups_data[(pickups_data['Month'] == maxCount_of_busiestDay[0]) & (pickups_data['Day'] == maxCount_of_busiestDay[1]) & (pickups_data['Year'] == maxCount_of_busiestDay[2])]\n"
   ]
  },
  {
   "cell_type": "code",
   "execution_count": null,
   "id": "be8cf59b",
   "metadata": {},
   "outputs": [],
   "source": [
    "# Creating string format of busiest day\n",
    "strDate = str(maxCount_of_busiestDay[2])+\"-\"+str(val)+\"-\"+str(maxCount_of_busiestDay[1])+\"  {}\""
   ]
  },
  {
   "cell_type": "code",
   "execution_count": null,
   "id": "1e9e5424",
   "metadata": {},
   "outputs": [],
   "source": [
    "hourly = defaultdict(list)\n",
    "for pickup in busiest_day.itertuples():\n",
    "    pickup_time = datetime.strptime(strDate.format(pickup.Hour), '%Y-%m-%d %H')\n",
    "    hourly[str(pickup_time)].append([pickup.pickupLatitude, pickup.pickupLongitude])   \n",
    "hourly = OrderedDict(sorted(hourly.items(), key=lambda t: t[0]))"
   ]
  },
  {
   "cell_type": "code",
   "execution_count": null,
   "id": "ad94ceea",
   "metadata": {},
   "outputs": [],
   "source": [
    "# Feeding the dictionary data to the Map for plotting the HeatMap\n",
    "mean_location = [pickups_data['pickupLatitude'].mean(),pickups_data['pickupLongitude'].mean()]\n",
    "pickup_map = folium.Map(mean_location, zoom_start=12, tiles=\"Stamen Terrain\")\n",
    "\n",
    "hourly_pickups = HeatMapWithTime(\n",
    "    data=list(hourly.values()),\n",
    "    index=list(hourly.keys()), \n",
    "    radius=10,\n",
    "    auto_play=True,\n",
    "    max_opacity=0.4\n",
    ")\n",
    "hourly_pickups.add_to(pickup_map)\n",
    "pickup_map"
   ]
  },
  {
   "cell_type": "markdown",
   "id": "3af51b26",
   "metadata": {},
   "source": [
    "We have visualized the busiest day from the entire dataset and found that Manhattan, Brooklyn , Queens are the busiest parts of New york.\n"
   ]
  },
  {
   "cell_type": "code",
   "execution_count": null,
   "id": "1a127d18",
   "metadata": {},
   "outputs": [],
   "source": []
  }
 ],
 "metadata": {
  "kernelspec": {
   "display_name": "Python 3 (ipykernel)",
   "language": "python",
   "name": "python3"
  },
  "language_info": {
   "codemirror_mode": {
    "name": "ipython",
    "version": 3
   },
   "file_extension": ".py",
   "mimetype": "text/x-python",
   "name": "python",
   "nbconvert_exporter": "python",
   "pygments_lexer": "ipython3",
   "version": "3.9.7"
  }
 },
 "nbformat": 4,
 "nbformat_minor": 5
}
